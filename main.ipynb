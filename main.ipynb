{
 "metadata": {
  "language_info": {
   "codemirror_mode": {
    "name": "ipython",
    "version": 3
   },
   "file_extension": ".py",
   "mimetype": "text/x-python",
   "name": "python",
   "nbconvert_exporter": "python",
   "pygments_lexer": "ipython3",
   "version": "3.9.1"
  },
  "orig_nbformat": 2,
  "kernelspec": {
   "name": "python3",
   "display_name": "Python 3.9.1 64-bit",
   "metadata": {
    "interpreter": {
     "hash": "69e9e8845f14d6a1be9181771003829efc6809609cade9480d2792830551f812"
    }
   }
  }
 },
 "nbformat": 4,
 "nbformat_minor": 2,
 "cells": [
  {
   "cell_type": "code",
   "execution_count": 1,
   "metadata": {},
   "outputs": [],
   "source": [
    "import keysolver as ks"
   ]
  },
  {
   "cell_type": "code",
   "execution_count": 3,
   "metadata": {},
   "outputs": [
    {
     "output_type": "execute_result",
     "data": {
      "text/plain": [
       "(0.9999962079413293, 0.564383468141019)"
      ]
     },
     "metadata": {},
     "execution_count": 3
    }
   ],
   "source": [
    "# Executed only once to train the AI\n",
    "ks.train_ai(\"./data/\", \"pics_@.bin\")"
   ]
  },
  {
   "cell_type": "code",
   "execution_count": null,
   "metadata": {},
   "outputs": [],
   "source": [
    "file = \"./data/pics_LOGINMDP.bin\""
   ]
  },
  {
   "cell_type": "code",
   "execution_count": 3,
   "metadata": {},
   "outputs": [
    {
     "output_type": "execute_result",
     "data": {
      "text/plain": [
       "['CTRL SHIFT D SHIFT T SHIFT M SHIFT I H W C K A G O N 3 0 2 4 ENTER',\n",
       " 'CTRL SHIFT D SHIFT T SHIFT M SHIFT I H W C K A G O N 3 0 2 2 ENTER',\n",
       " 'CTRL SHIFT D SHIFT T SHIFT M SHIFT I H W C K A G O N 2 0 2 4 ENTER',\n",
       " 'CTRL SHIFT D SHIFT T SHIFT M SHIFT I H W C K A G O N 2 0 2 2 ENTER',\n",
       " 'CTRL SHIFT D SHIFT T SHIFT M SHIFT I H W C K A T O N 3 0 2 4 ENTER',\n",
       " 'CTRL SHIFT D SHIFT T SHIFT M SHIFT I H W C K A T O N 3 0 2 2 ENTER',\n",
       " 'CTRL SHIFT D SHIFT T SHIFT M SHIFT I H W C K A T O N 2 0 2 4 ENTER',\n",
       " 'CTRL SHIFT D SHIFT T SHIFT M SHIFT I H W C K A T O N 2 0 2 2 ENTER',\n",
       " 'CTRL SHIFT D SHIFT T SHIFT M SHIFT I H W C K W G O N 3 0 2 4 ENTER',\n",
       " 'CTRL SHIFT D SHIFT T SHIFT M SHIFT I H W C K W G O N 3 0 2 2 ENTER',\n",
       " 'CTRL SHIFT D SHIFT T SHIFT M SHIFT I H W C K W G O N 2 0 2 4 ENTER',\n",
       " 'CTRL SHIFT D SHIFT T SHIFT M SHIFT I H W C K W G O N 2 0 2 2 ENTER',\n",
       " 'CTRL SHIFT D SHIFT T SHIFT M SHIFT I H W C K W T O N 3 0 2 4 ENTER',\n",
       " 'CTRL SHIFT D SHIFT T SHIFT M SHIFT I H W C K W T O N 3 0 2 2 ENTER',\n",
       " 'CTRL SHIFT D SHIFT T SHIFT M SHIFT I H W C K W T O N 2 0 2 4 ENTER',\n",
       " 'CTRL SHIFT D SHIFT T SHIFT M SHIFT I H W C K W T O N 2 0 2 2 ENTER',\n",
       " 'CTRL SHIFT D SHIFT T SHIFT M SHIFT I U W C K A G O N 3 0 2 4 ENTER',\n",
       " 'CTRL SHIFT D SHIFT T SHIFT M SHIFT I U W C K A G O N 3 0 2 2 ENTER',\n",
       " 'CTRL SHIFT D SHIFT T SHIFT M SHIFT I U W C K A G O N 2 0 2 4 ENTER',\n",
       " 'CTRL SHIFT D SHIFT T SHIFT M SHIFT I U W C K A G O N 2 0 2 2 ENTER',\n",
       " 'CTRL SHIFT D SHIFT T SHIFT M SHIFT I U W C K A T O N 3 0 2 4 ENTER',\n",
       " 'CTRL SHIFT D SHIFT T SHIFT M SHIFT I U W C K A T O N 3 0 2 2 ENTER',\n",
       " 'CTRL SHIFT D SHIFT T SHIFT M SHIFT I U W C K A T O N 2 0 2 4 ENTER',\n",
       " 'CTRL SHIFT D SHIFT T SHIFT M SHIFT I U W C K A T O N 2 0 2 2 ENTER',\n",
       " 'CTRL SHIFT D SHIFT T SHIFT M SHIFT I U W C K W G O N 3 0 2 4 ENTER',\n",
       " 'CTRL SHIFT D SHIFT T SHIFT M SHIFT I U W C K W G O N 3 0 2 2 ENTER',\n",
       " 'CTRL SHIFT D SHIFT T SHIFT M SHIFT I U W C K W G O N 2 0 2 4 ENTER',\n",
       " 'CTRL SHIFT D SHIFT T SHIFT M SHIFT I U W C K W G O N 2 0 2 2 ENTER',\n",
       " 'CTRL SHIFT D SHIFT T SHIFT M SHIFT I U W C K W T O N 3 0 2 4 ENTER',\n",
       " 'CTRL SHIFT D SHIFT T SHIFT M SHIFT I U W C K W T O N 3 0 2 2 ENTER',\n",
       " 'CTRL SHIFT D SHIFT T SHIFT M SHIFT I U W C K W T O N 2 0 2 4 ENTER',\n",
       " 'CTRL SHIFT D SHIFT T SHIFT M SHIFT I U W C K W T O N 2 0 2 2 ENTER',\n",
       " 'SUPPR SHIFT D SHIFT T SHIFT M SHIFT I H W C K A G O N 3 0 2 4 ENTER',\n",
       " 'SUPPR SHIFT D SHIFT T SHIFT M SHIFT I H W C K A G O N 3 0 2 2 ENTER',\n",
       " 'SUPPR SHIFT D SHIFT T SHIFT M SHIFT I H W C K A G O N 2 0 2 4 ENTER',\n",
       " 'SUPPR SHIFT D SHIFT T SHIFT M SHIFT I H W C K A G O N 2 0 2 2 ENTER',\n",
       " 'SUPPR SHIFT D SHIFT T SHIFT M SHIFT I H W C K A T O N 3 0 2 4 ENTER',\n",
       " 'SUPPR SHIFT D SHIFT T SHIFT M SHIFT I H W C K A T O N 3 0 2 2 ENTER',\n",
       " 'SUPPR SHIFT D SHIFT T SHIFT M SHIFT I H W C K A T O N 2 0 2 4 ENTER',\n",
       " 'SUPPR SHIFT D SHIFT T SHIFT M SHIFT I H W C K A T O N 2 0 2 2 ENTER',\n",
       " 'SUPPR SHIFT D SHIFT T SHIFT M SHIFT I H W C K W G O N 3 0 2 4 ENTER',\n",
       " 'SUPPR SHIFT D SHIFT T SHIFT M SHIFT I H W C K W G O N 3 0 2 2 ENTER',\n",
       " 'SUPPR SHIFT D SHIFT T SHIFT M SHIFT I H W C K W G O N 2 0 2 4 ENTER',\n",
       " 'SUPPR SHIFT D SHIFT T SHIFT M SHIFT I H W C K W G O N 2 0 2 2 ENTER',\n",
       " 'SUPPR SHIFT D SHIFT T SHIFT M SHIFT I H W C K W T O N 3 0 2 4 ENTER',\n",
       " 'SUPPR SHIFT D SHIFT T SHIFT M SHIFT I H W C K W T O N 3 0 2 2 ENTER',\n",
       " 'SUPPR SHIFT D SHIFT T SHIFT M SHIFT I H W C K W T O N 2 0 2 4 ENTER',\n",
       " 'SUPPR SHIFT D SHIFT T SHIFT M SHIFT I H W C K W T O N 2 0 2 2 ENTER',\n",
       " 'SUPPR SHIFT D SHIFT T SHIFT M SHIFT I U W C K A G O N 3 0 2 4 ENTER',\n",
       " 'SUPPR SHIFT D SHIFT T SHIFT M SHIFT I U W C K A G O N 3 0 2 2 ENTER',\n",
       " 'SUPPR SHIFT D SHIFT T SHIFT M SHIFT I U W C K A G O N 2 0 2 4 ENTER',\n",
       " 'SUPPR SHIFT D SHIFT T SHIFT M SHIFT I U W C K A G O N 2 0 2 2 ENTER',\n",
       " 'SUPPR SHIFT D SHIFT T SHIFT M SHIFT I U W C K A T O N 3 0 2 4 ENTER',\n",
       " 'SUPPR SHIFT D SHIFT T SHIFT M SHIFT I U W C K A T O N 3 0 2 2 ENTER',\n",
       " 'SUPPR SHIFT D SHIFT T SHIFT M SHIFT I U W C K A T O N 2 0 2 4 ENTER',\n",
       " 'SUPPR SHIFT D SHIFT T SHIFT M SHIFT I U W C K A T O N 2 0 2 2 ENTER',\n",
       " 'SUPPR SHIFT D SHIFT T SHIFT M SHIFT I U W C K W G O N 3 0 2 4 ENTER',\n",
       " 'SUPPR SHIFT D SHIFT T SHIFT M SHIFT I U W C K W G O N 3 0 2 2 ENTER',\n",
       " 'SUPPR SHIFT D SHIFT T SHIFT M SHIFT I U W C K W G O N 2 0 2 4 ENTER',\n",
       " 'SUPPR SHIFT D SHIFT T SHIFT M SHIFT I U W C K W G O N 2 0 2 2 ENTER',\n",
       " 'SUPPR SHIFT D SHIFT T SHIFT M SHIFT I U W C K W T O N 3 0 2 4 ENTER',\n",
       " 'SUPPR SHIFT D SHIFT T SHIFT M SHIFT I U W C K W T O N 3 0 2 2 ENTER',\n",
       " 'SUPPR SHIFT D SHIFT T SHIFT M SHIFT I U W C K W T O N 2 0 2 4 ENTER',\n",
       " 'SUPPR SHIFT D SHIFT T SHIFT M SHIFT I U W C K W T O N 2 0 2 2 ENTER']"
      ]
     },
     "metadata": {},
     "execution_count": 3
    }
   ],
   "source": [
    "ks.solve(file)"
   ]
  }
 ]
}